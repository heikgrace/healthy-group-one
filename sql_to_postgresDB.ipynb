{
 "cells": [
  {
   "cell_type": "code",
   "execution_count": 1,
   "id": "03c9977c",
   "metadata": {},
   "outputs": [],
   "source": [
    "import pandas as pd\n",
    "from sqlalchemy import create_engine, types\n",
    "from sqlalchemy import text # to be able to pass string"
   ]
  },
  {
   "cell_type": "code",
   "execution_count": 2,
   "id": "811ea8a4",
   "metadata": {},
   "outputs": [],
   "source": [
    "df_sleephealthlifestyle_female = pd.read_csv(\"data/sleephealthlifestyle/data_gender_female.csv\")\n",
    "df_sleephealthlifestyle_male =  pd.read_csv(\"data/sleephealthlifestyle/data_gender_male.csv\")\n",
    "df_sleephealthlifestyle =  pd.read_csv(\"data/sleephealthlifestyle/data_gender_combined.csv\")\n",
    "df_fitbit =  pd.read_csv(\"data/fitbit_sema/fitbit_data_prep.csv\")"
   ]
  },
  {
   "cell_type": "code",
   "execution_count": 3,
   "id": "4fe2f929",
   "metadata": {},
   "outputs": [],
   "source": [
    "# Let's load values from the .env file\n",
    "from dotenv import dotenv_values\n",
    "\n",
    "config = dotenv_values()\n",
    "\n",
    "# define variables for the login\n",
    "pg_user = config['POSTGRES_USER']  # align the key label with your .env file !\n",
    "pg_host = config['POSTGRES_HOST']\n",
    "pg_port = config['POSTGRES_PORT']\n",
    "pg_db = config['POSTGRES_DB']\n",
    "pg_schema = config['POSTGRES_SCHEMA']\n",
    "pg_pass = config['POSTGRES_PASS']"
   ]
  },
  {
   "cell_type": "code",
   "execution_count": 4,
   "id": "a5f3d1cb",
   "metadata": {},
   "outputs": [],
   "source": [
    "# Now building the URL with the values from the .env file\n",
    "\n",
    "url = f'postgresql://{pg_user}:{pg_pass}@{pg_host}:{pg_port}/{pg_db}'\n",
    "\n",
    "# without specifying the schema default connection is to the schema `public`\n",
    "# url = f'postgresql://{pg_user}:{pg_pass}@{pg_host}:{pg_port}/{pg_db}'"
   ]
  },
  {
   "cell_type": "code",
   "execution_count": 5,
   "id": "4f3542be",
   "metadata": {},
   "outputs": [],
   "source": [
    "engine = create_engine(url, echo=False)"
   ]
  },
  {
   "cell_type": "code",
   "execution_count": 6,
   "id": "201f3e0b",
   "metadata": {},
   "outputs": [],
   "source": [
    "my_schema = 'team_1' # update it to your schema\n",
    "\n",
    "with engine.begin() as conn: \n",
    "    result = conn.execute(text(f'SET search_path TO {my_schema};'))"
   ]
  },
  {
   "cell_type": "code",
   "execution_count": 7,
   "id": "e738025e",
   "metadata": {},
   "outputs": [],
   "source": [
    "# defining data types for the DB\n",
    "sleephealthlifestyle_dtype_dict = {\n",
    "    'Gender':types.String,\n",
    "    'Age_group': types.String,\n",
    "    'Age': types.Integer,\n",
    "    'Occupation': types.String,\n",
    "    'Sleep Duration': types.Float,\n",
    "    'Quality of Sleep': types.Integer,\n",
    "    'Physical Activity Level': types.Integer,\n",
    "    'Stress Level': types.Integer,\n",
    "    'BMI Category': types.String,\n",
    "    'Blood Pressure systolic': types.Integer,\n",
    "    'Blood Pressure diastolic': types.Integer,\n",
    "    'Heart Rate': types.Integer,\n",
    "    'Daily Steps': types.Integer,\n",
    "    'Sleep Disorder': types.String\n",
    "             }"
   ]
  },
  {
   "cell_type": "code",
   "execution_count": 8,
   "id": "c27f9cae",
   "metadata": {},
   "outputs": [],
   "source": [
    "# defining data types for the DB\n",
    "fitbit_dtype_dict = {\n",
    "    'id':types.Integer,\n",
    "    'age': types.String,\n",
    "    'age_group': types.String,\n",
    "    'gender': types.String,\n",
    "    'bmi': types.String,\n",
    "    'rmssd': types.Float,\n",
    "    'stress_score': types.Float,\n",
    "    'sleep_points_percentage': types.Float,\n",
    "    'calories': types.Float,\n",
    "    'distance': types.Float,\n",
    "    'bpm': types.Float,\n",
    "    'lightly_active_minutes': types.Integer,\n",
    "    'moderately_active_minutes': types.Integer,\n",
    "    'very_active_minutes': types.Integer,\n",
    "    'sedentary_minutes': types.Integer,\n",
    "    'sleep_duration': types.Float,\n",
    "    'sleep_efficiency': types.Integer,\n",
    "    'steps': types.Integer\n",
    "             }"
   ]
  },
  {
   "cell_type": "code",
   "execution_count": null,
   "id": "907336ba",
   "metadata": {},
   "outputs": [
    {
     "data": {
      "text/plain": [
       "567"
      ]
     },
     "execution_count": 9,
     "metadata": {},
     "output_type": "execute_result"
    }
   ],
   "source": [
    "# writing dataframe to DB\n",
    "df_sleephealthlifestyle_female.to_sql(name = 'sleep_health_lifestyle_female', \n",
    "                       con = engine, \n",
    "                       schema = pg_schema, # pandas is allowing to specify, in which schema the table shall be created\n",
    "                       if_exists='fail', \n",
    "                       dtype=sleephealthlifestyle_dtype_dict,\n",
    "                       index=False\n",
    "                      )\n",
    "\n",
    "df_sleephealthlifestyle_male.to_sql(name = 'sleep_health_lifestyle_male', \n",
    "                       con = engine, \n",
    "                       schema = pg_schema, # pandas is allowing to specify, in which schema the table shall be created\n",
    "                       if_exists='fail', \n",
    "                       dtype=sleephealthlifestyle_dtype_dict,\n",
    "                       index=False\n",
    "                      )\n",
    "\n",
    "df_sleephealthlifestyle.to_sql(name = 'sleep_health_lifestyle', \n",
    "                       con = engine, \n",
    "                       schema = pg_schema, # pandas is allowing to specify, in which schema the table shall be created\n",
    "                       if_exists='fail', \n",
    "                       dtype=sleephealthlifestyle_dtype_dict,\n",
    "                       index=False\n",
    "                      )\n",
    "\n",
    "df_fitbit.to_sql(name = 'fitbit_data', \n",
    "                       con = engine, \n",
    "                       schema = pg_schema, # pandas is allowing to specify, in which schema the table shall be created\n",
    "                       if_exists='fail', \n",
    "                       dtype=fitbit_dtype_dict,\n",
    "                       index=False\n",
    "                      )"
   ]
  }
 ],
 "metadata": {
  "kernelspec": {
   "display_name": "base",
   "language": "python",
   "name": "python3"
  },
  "language_info": {
   "codemirror_mode": {
    "name": "ipython",
    "version": 3
   },
   "file_extension": ".py",
   "mimetype": "text/x-python",
   "name": "python",
   "nbconvert_exporter": "python",
   "pygments_lexer": "ipython3",
   "version": "3.13.2"
  }
 },
 "nbformat": 4,
 "nbformat_minor": 5
}
